{
 "cells": [
  {
   "cell_type": "markdown",
   "metadata": {},
   "source": [
    "## Data Cleaning\n",
    "\n",
    "With both the Space X and NASA subreddit data now saved in both json and csv formats I will ensure that the data is cleaned and prepared for Exploratory Data Analysis."
   ]
  },
  {
   "cell_type": "code",
   "execution_count": 15,
   "metadata": {},
   "outputs": [],
   "source": [
    "import numpy as np\n",
    "import pandas as pd"
   ]
  },
  {
   "cell_type": "markdown",
   "metadata": {},
   "source": [
    "### Step # 1: Load the Data\n",
    "\n",
    "Importing the saved csv information with the subreddit data from both Space X and NASA"
   ]
  },
  {
   "cell_type": "code",
   "execution_count": 16,
   "metadata": {},
   "outputs": [],
   "source": [
    "spacex_df = pd.read_csv('../data/spacex_df.csv')\n",
    "nasa_df   = pd.read_csv('../data/nasa_df.csv')"
   ]
  },
  {
   "cell_type": "markdown",
   "metadata": {},
   "source": [
    "### Step # 2: Clean the data\n",
    "\n",
    "#### Create one dataframe\n",
    "\n",
    "Knowing that we used the same API to scrape the subreddit data for both Space X and NASA I want to put the data from each of these subreddits into one single dataframe. This will allow me to analyze the data together to identify unneeded columns, null cells and identify which column(s) will be the most optimal for applying NLP."
   ]
  },
  {
   "cell_type": "code",
   "execution_count": 17,
   "metadata": {},
   "outputs": [],
   "source": [
    "df = pd.concat([spacex_df, nasa_df], sort=True)"
   ]
  },
  {
   "cell_type": "markdown",
   "metadata": {},
   "source": [
    "#### Examine the columns\n",
    "\n",
    "Reviewing the columns to see what features will be the most optimal to apply to NLP."
   ]
  },
  {
   "cell_type": "code",
   "execution_count": 18,
   "metadata": {},
   "outputs": [
    {
     "data": {
      "text/plain": [
       "Index(['Unnamed: 0', 'approved_at_utc', 'approved_by', 'archived', 'author',\n",
       "       'author_cakeday', 'author_flair_background_color',\n",
       "       'author_flair_css_class', 'author_flair_richtext',\n",
       "       'author_flair_template_id', 'author_flair_text',\n",
       "       'author_flair_text_color', 'author_flair_type', 'author_fullname',\n",
       "       'banned_at_utc', 'banned_by', 'can_gild', 'can_mod_post', 'category',\n",
       "       'clicked', 'content_categories', 'contest_mode', 'created',\n",
       "       'created_utc', 'crosspost_parent', 'crosspost_parent_list',\n",
       "       'distinguished', 'domain', 'downs', 'edited', 'gilded', 'hidden',\n",
       "       'hide_score', 'id', 'is_crosspostable', 'is_meta',\n",
       "       'is_original_content', 'is_reddit_media_domain', 'is_self', 'is_video',\n",
       "       'likes', 'link_flair_background_color', 'link_flair_css_class',\n",
       "       'link_flair_richtext', 'link_flair_template_id', 'link_flair_text',\n",
       "       'link_flair_text_color', 'link_flair_type', 'locked', 'media',\n",
       "       'media_embed', 'media_metadata', 'media_only', 'mod_note',\n",
       "       'mod_reason_by', 'mod_reason_title', 'mod_reports', 'name', 'no_follow',\n",
       "       'num_comments', 'num_crossposts', 'num_reports', 'over_18',\n",
       "       'parent_whitelist_status', 'permalink', 'pinned', 'post_hint',\n",
       "       'preview', 'previous_visits', 'pwls', 'quarantine', 'removal_reason',\n",
       "       'report_reasons', 'saved', 'score', 'secure_media',\n",
       "       'secure_media_embed', 'selftext', 'selftext_html', 'send_replies',\n",
       "       'spoiler', 'stickied', 'subreddit', 'subreddit_id',\n",
       "       'subreddit_name_prefixed', 'subreddit_subscribers', 'subreddit_type',\n",
       "       'suggested_sort', 'thumbnail', 'thumbnail_height', 'thumbnail_width',\n",
       "       'title', 'ups', 'url', 'user_reports', 'view_count', 'visited',\n",
       "       'whitelist_status', 'wls'],\n",
       "      dtype='object')"
      ]
     },
     "execution_count": 18,
     "metadata": {},
     "output_type": "execute_result"
    }
   ],
   "source": [
    "df.columns"
   ]
  },
  {
   "cell_type": "markdown",
   "metadata": {},
   "source": [
    "#### Remove unneeded columns and remove duplicate posts\n",
    "\n",
    "Performing some cleaning to ensure data doesn't have any unnecessary columns and dropping duplicate posts to ensure model doesn't receive the same information twice."
   ]
  },
  {
   "cell_type": "code",
   "execution_count": 20,
   "metadata": {},
   "outputs": [
    {
     "data": {
      "text/plain": [
       "(2474, 99)"
      ]
     },
     "execution_count": 20,
     "metadata": {},
     "output_type": "execute_result"
    }
   ],
   "source": [
    "df.shape"
   ]
  },
  {
   "cell_type": "code",
   "execution_count": 21,
   "metadata": {},
   "outputs": [],
   "source": [
    "df.drop('Unnamed: 0', axis=1, inplace=True)"
   ]
  },
  {
   "cell_type": "code",
   "execution_count": 22,
   "metadata": {},
   "outputs": [],
   "source": [
    "df.drop_duplicates(inplace=True)"
   ]
  },
  {
   "cell_type": "code",
   "execution_count": 23,
   "metadata": {},
   "outputs": [
    {
     "data": {
      "text/plain": [
       "(2448, 98)"
      ]
     },
     "execution_count": 23,
     "metadata": {},
     "output_type": "execute_result"
    }
   ],
   "source": [
    "df.shape"
   ]
  },
  {
   "cell_type": "code",
   "execution_count": 24,
   "metadata": {},
   "outputs": [
    {
     "data": {
      "text/html": [
       "<div>\n",
       "<style scoped>\n",
       "    .dataframe tbody tr th:only-of-type {\n",
       "        vertical-align: middle;\n",
       "    }\n",
       "\n",
       "    .dataframe tbody tr th {\n",
       "        vertical-align: top;\n",
       "    }\n",
       "\n",
       "    .dataframe thead th {\n",
       "        text-align: right;\n",
       "    }\n",
       "</style>\n",
       "<table border=\"1\" class=\"dataframe\">\n",
       "  <thead>\n",
       "    <tr style=\"text-align: right;\">\n",
       "      <th></th>\n",
       "      <th>approved_at_utc</th>\n",
       "      <th>approved_by</th>\n",
       "      <th>archived</th>\n",
       "      <th>author</th>\n",
       "      <th>author_cakeday</th>\n",
       "      <th>author_flair_background_color</th>\n",
       "      <th>author_flair_css_class</th>\n",
       "      <th>author_flair_richtext</th>\n",
       "      <th>author_flair_template_id</th>\n",
       "      <th>author_flair_text</th>\n",
       "      <th>...</th>\n",
       "      <th>thumbnail_height</th>\n",
       "      <th>thumbnail_width</th>\n",
       "      <th>title</th>\n",
       "      <th>ups</th>\n",
       "      <th>url</th>\n",
       "      <th>user_reports</th>\n",
       "      <th>view_count</th>\n",
       "      <th>visited</th>\n",
       "      <th>whitelist_status</th>\n",
       "      <th>wls</th>\n",
       "    </tr>\n",
       "  </thead>\n",
       "  <tbody>\n",
       "    <tr>\n",
       "      <th>0</th>\n",
       "      <td>NaN</td>\n",
       "      <td>NaN</td>\n",
       "      <td>False</td>\n",
       "      <td>ElongatedMuskrat</td>\n",
       "      <td>NaN</td>\n",
       "      <td>NaN</td>\n",
       "      <td>contributor</td>\n",
       "      <td>[]</td>\n",
       "      <td>NaN</td>\n",
       "      <td>r/SpaceX Bot</td>\n",
       "      <td>...</td>\n",
       "      <td>NaN</td>\n",
       "      <td>NaN</td>\n",
       "      <td>Telstar 18V / APStar 5C Launch Campaign Thread</td>\n",
       "      <td>246</td>\n",
       "      <td>https://www.reddit.com/r/spacex/comments/95cte...</td>\n",
       "      <td>[]</td>\n",
       "      <td>NaN</td>\n",
       "      <td>False</td>\n",
       "      <td>all_ads</td>\n",
       "      <td>6</td>\n",
       "    </tr>\n",
       "    <tr>\n",
       "      <th>1</th>\n",
       "      <td>NaN</td>\n",
       "      <td>NaN</td>\n",
       "      <td>False</td>\n",
       "      <td>ElongatedMuskrat</td>\n",
       "      <td>NaN</td>\n",
       "      <td>NaN</td>\n",
       "      <td>contributor</td>\n",
       "      <td>[]</td>\n",
       "      <td>NaN</td>\n",
       "      <td>r/SpaceX Bot</td>\n",
       "      <td>...</td>\n",
       "      <td>NaN</td>\n",
       "      <td>NaN</td>\n",
       "      <td>r/SpaceX Discusses [September 2018, #48]</td>\n",
       "      <td>170</td>\n",
       "      <td>https://www.reddit.com/r/spacex/comments/9ckoe...</td>\n",
       "      <td>[]</td>\n",
       "      <td>NaN</td>\n",
       "      <td>False</td>\n",
       "      <td>all_ads</td>\n",
       "      <td>6</td>\n",
       "    </tr>\n",
       "    <tr>\n",
       "      <th>2</th>\n",
       "      <td>NaN</td>\n",
       "      <td>NaN</td>\n",
       "      <td>False</td>\n",
       "      <td>soldato_fantasma</td>\n",
       "      <td>NaN</td>\n",
       "      <td>NaN</td>\n",
       "      <td>contributor</td>\n",
       "      <td>[]</td>\n",
       "      <td>NaN</td>\n",
       "      <td>Host of BulgariaSat-1</td>\n",
       "      <td>...</td>\n",
       "      <td>84.0</td>\n",
       "      <td>140.0</td>\n",
       "      <td>SpaceX granted patents for custom-built Starli...</td>\n",
       "      <td>916</td>\n",
       "      <td>https://www.teslarati.com/spacex-custom-built-...</td>\n",
       "      <td>[]</td>\n",
       "      <td>NaN</td>\n",
       "      <td>False</td>\n",
       "      <td>all_ads</td>\n",
       "      <td>6</td>\n",
       "    </tr>\n",
       "    <tr>\n",
       "      <th>3</th>\n",
       "      <td>NaN</td>\n",
       "      <td>NaN</td>\n",
       "      <td>False</td>\n",
       "      <td>jclishman</td>\n",
       "      <td>NaN</td>\n",
       "      <td>NaN</td>\n",
       "      <td>contributor</td>\n",
       "      <td>[]</td>\n",
       "      <td>NaN</td>\n",
       "      <td>Host of Inmarsat-5 Flight 4</td>\n",
       "      <td>...</td>\n",
       "      <td>140.0</td>\n",
       "      <td>140.0</td>\n",
       "      <td>Jeff Foust on Twitter - \"Shotwell: think we’ll...</td>\n",
       "      <td>210</td>\n",
       "      <td>https://twitter.com/jeff_foust/status/10378148...</td>\n",
       "      <td>[]</td>\n",
       "      <td>NaN</td>\n",
       "      <td>False</td>\n",
       "      <td>all_ads</td>\n",
       "      <td>6</td>\n",
       "    </tr>\n",
       "    <tr>\n",
       "      <th>4</th>\n",
       "      <td>NaN</td>\n",
       "      <td>NaN</td>\n",
       "      <td>False</td>\n",
       "      <td>Bossdude234</td>\n",
       "      <td>NaN</td>\n",
       "      <td>NaN</td>\n",
       "      <td>NaN</td>\n",
       "      <td>[]</td>\n",
       "      <td>NaN</td>\n",
       "      <td>NaN</td>\n",
       "      <td>...</td>\n",
       "      <td>140.0</td>\n",
       "      <td>140.0</td>\n",
       "      <td>SpaceX on Twitter - \"Now targeting September 9...</td>\n",
       "      <td>79</td>\n",
       "      <td>https://twitter.com/SpaceX/status/103784391187...</td>\n",
       "      <td>[]</td>\n",
       "      <td>NaN</td>\n",
       "      <td>False</td>\n",
       "      <td>all_ads</td>\n",
       "      <td>6</td>\n",
       "    </tr>\n",
       "  </tbody>\n",
       "</table>\n",
       "<p>5 rows × 98 columns</p>\n",
       "</div>"
      ],
      "text/plain": [
       "   approved_at_utc  approved_by  archived            author author_cakeday  \\\n",
       "0              NaN          NaN     False  ElongatedMuskrat            NaN   \n",
       "1              NaN          NaN     False  ElongatedMuskrat            NaN   \n",
       "2              NaN          NaN     False  soldato_fantasma            NaN   \n",
       "3              NaN          NaN     False         jclishman            NaN   \n",
       "4              NaN          NaN     False       Bossdude234            NaN   \n",
       "\n",
       "   author_flair_background_color author_flair_css_class author_flair_richtext  \\\n",
       "0                            NaN            contributor                    []   \n",
       "1                            NaN            contributor                    []   \n",
       "2                            NaN            contributor                    []   \n",
       "3                            NaN            contributor                    []   \n",
       "4                            NaN                    NaN                    []   \n",
       "\n",
       "  author_flair_template_id            author_flair_text ...  thumbnail_height  \\\n",
       "0                      NaN                 r/SpaceX Bot ...               NaN   \n",
       "1                      NaN                 r/SpaceX Bot ...               NaN   \n",
       "2                      NaN        Host of BulgariaSat-1 ...              84.0   \n",
       "3                      NaN  Host of Inmarsat-5 Flight 4 ...             140.0   \n",
       "4                      NaN                          NaN ...             140.0   \n",
       "\n",
       "  thumbnail_width                                              title  ups  \\\n",
       "0             NaN     Telstar 18V / APStar 5C Launch Campaign Thread  246   \n",
       "1             NaN           r/SpaceX Discusses [September 2018, #48]  170   \n",
       "2           140.0  SpaceX granted patents for custom-built Starli...  916   \n",
       "3           140.0  Jeff Foust on Twitter - \"Shotwell: think we’ll...  210   \n",
       "4           140.0  SpaceX on Twitter - \"Now targeting September 9...   79   \n",
       "\n",
       "                                                 url  user_reports  \\\n",
       "0  https://www.reddit.com/r/spacex/comments/95cte...            []   \n",
       "1  https://www.reddit.com/r/spacex/comments/9ckoe...            []   \n",
       "2  https://www.teslarati.com/spacex-custom-built-...            []   \n",
       "3  https://twitter.com/jeff_foust/status/10378148...            []   \n",
       "4  https://twitter.com/SpaceX/status/103784391187...            []   \n",
       "\n",
       "   view_count  visited  whitelist_status  wls  \n",
       "0         NaN    False           all_ads    6  \n",
       "1         NaN    False           all_ads    6  \n",
       "2         NaN    False           all_ads    6  \n",
       "3         NaN    False           all_ads    6  \n",
       "4         NaN    False           all_ads    6  \n",
       "\n",
       "[5 rows x 98 columns]"
      ]
     },
     "execution_count": 24,
     "metadata": {},
     "output_type": "execute_result"
    }
   ],
   "source": [
    "df.head()"
   ]
  },
  {
   "cell_type": "markdown",
   "metadata": {},
   "source": [
    "#### Features for NLP\n",
    "\n",
    "From my review of the data there are two specific columns that I can apply NLP:\n",
    "- Selftext\n",
    "    - The body of the subreddit post\n",
    "- Title\n",
    "    - The subreddit titles with intital details about the topic of the subreddit post\n",
    "    \n",
    "    \n",
    "#### Analysis of the columns\n",
    "\n",
    "After running a method on both the Title and Selftext columns to identify the number of cells that are empty:\n",
    "- Selftext has 2,061 empty cells that are null which is about 84% of all the data\n",
    "- Title has 0 empty cells\n",
    "\n",
    "Knowing that the majority of the cells within the Selftext column are empty I will only be using the Title column from the Space X and NASA subreddits to apply NLP."
   ]
  },
  {
   "cell_type": "code",
   "execution_count": 25,
   "metadata": {},
   "outputs": [
    {
     "name": "stdout",
     "output_type": "stream",
     "text": [
      "2061\n",
      "0.8419117647058824\n"
     ]
    }
   ],
   "source": [
    "print(df.selftext.isnull().sum())\n",
    "print(df.selftext.isnull().sum() / len(df))"
   ]
  },
  {
   "cell_type": "code",
   "execution_count": 26,
   "metadata": {},
   "outputs": [
    {
     "data": {
      "text/plain": [
       "0"
      ]
     },
     "execution_count": 26,
     "metadata": {},
     "output_type": "execute_result"
    }
   ],
   "source": [
    "df.title.isnull().sum()"
   ]
  },
  {
   "cell_type": "code",
   "execution_count": 27,
   "metadata": {},
   "outputs": [
    {
     "data": {
      "text/plain": [
       "(2448, 98)"
      ]
     },
     "execution_count": 27,
     "metadata": {},
     "output_type": "execute_result"
    }
   ],
   "source": [
    "df.shape"
   ]
  },
  {
   "cell_type": "code",
   "execution_count": 28,
   "metadata": {},
   "outputs": [
    {
     "data": {
      "text/plain": [
       "nasa      1227\n",
       "spacex    1221\n",
       "Name: subreddit, dtype: int64"
      ]
     },
     "execution_count": 28,
     "metadata": {},
     "output_type": "execute_result"
    }
   ],
   "source": [
    "df.subreddit.value_counts()"
   ]
  },
  {
   "cell_type": "markdown",
   "metadata": {},
   "source": [
    "### Step # 3: Save the clean dataframe"
   ]
  },
  {
   "cell_type": "code",
   "execution_count": 12,
   "metadata": {},
   "outputs": [],
   "source": [
    "df.to_csv('../data/df_final.csv', index=False)"
   ]
  },
  {
   "cell_type": "code",
   "execution_count": null,
   "metadata": {},
   "outputs": [],
   "source": []
  }
 ],
 "metadata": {
  "kernelspec": {
   "display_name": "Python 3",
   "language": "python",
   "name": "python3"
  },
  "language_info": {
   "codemirror_mode": {
    "name": "ipython",
    "version": 3
   },
   "file_extension": ".py",
   "mimetype": "text/x-python",
   "name": "python",
   "nbconvert_exporter": "python",
   "pygments_lexer": "ipython3",
   "version": "3.6.5"
  }
 },
 "nbformat": 4,
 "nbformat_minor": 2
}
